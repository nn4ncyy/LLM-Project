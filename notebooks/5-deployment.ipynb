{
  "nbformat": 4,
  "nbformat_minor": 0,
  "metadata": {
    "colab": {
      "provenance": []
    },
    "kernelspec": {
      "name": "python3",
      "display_name": "Python 3"
    },
    "language_info": {
      "name": "python"
    }
  },
  "cells": [
    {
      "cell_type": "code",
      "execution_count": null,
      "metadata": {
        "colab": {
          "base_uri": "https://localhost:8080/"
        },
        "id": "b4noMgzue032",
        "outputId": "e1bf47a6-9b0e-40d9-e3d3-dfc822ed767c"
      },
      "outputs": [
        {
          "output_type": "stream",
          "name": "stdout",
          "text": [
            "Mounted at /content/drive\n",
            "/content/drive/MyDrive/Lighthouse Labs/LLM-Project/notebooks\n"
          ]
        }
      ],
      "source": [
        "from google.colab import drive\n",
        "drive.mount('/content/drive')\n",
        "\n",
        "%cd /content/drive/MyDrive/Lighthouse Labs/LLM-Project/notebooks"
      ]
    },
    {
      "cell_type": "code",
      "source": [
        "from huggingface_hub import notebook_login\n",
        "from transformers import AutoTokenizer, AutoModelForSequenceClassification\n",
        "from transformers import pipeline\n",
        "\n",
        "# Log in to Hugging Face\n",
        "notebook_login()\n",
        "\n"
      ],
      "metadata": {
        "colab": {
          "base_uri": "https://localhost:8080/",
          "height": 17,
          "referenced_widgets": [
            "a14fde2149d741378e9bedf752bbc273",
            "c39a998df451450bbae8dc89e0d5348e",
            "080ba97d544841f895ebf2edd31ff86f",
            "cf13a73a02b348da8b3ccd2da3f0ab00",
            "720c431e566648d2999d1582c994995c",
            "ed8953acfae44978b237aa5c42d6d4f0",
            "74e8a590a4304da0ad5e068d937f84f7",
            "429759636f4648c0860f6ae882cba191",
            "60f63b9bd78a4f4595ef41e482da0291",
            "e60e4b0888dd4d9c81aa7bd90d2da5a0",
            "fb9de2e1d9d7436f9d155b667df31832",
            "097a186a05e744f48de47ba291b1da35",
            "70a5ff1a23334c0d89d1470111ece994",
            "9c1e8ba21766403c9a5c059141066ef4",
            "d7980e4727a54d139777a08486cadccb",
            "65915b548de341c591239151c86ffcd1",
            "1d1e76ecc6694cffb4816d385d696ec7",
            "d9aa78b6a9d644059212e0c092efe557",
            "aa5aea7ed23f4783adc86eb74347bd6c",
            "2c3177a80dc344acba0a5254b6a6605a"
          ]
        },
        "id": "jGeBrYF_gCXB",
        "outputId": "08dbefba-2528-4b1e-f55c-2f5841767ea2"
      },
      "execution_count": null,
      "outputs": [
        {
          "output_type": "display_data",
          "data": {
            "text/plain": [
              "VBox(children=(HTML(value='<center> <img\\nsrc=https://huggingface.co/front/assets/huggingface_logo-noborder.sv…"
            ],
            "application/vnd.jupyter.widget-view+json": {
              "version_major": 2,
              "version_minor": 0,
              "model_id": "a14fde2149d741378e9bedf752bbc273"
            }
          },
          "metadata": {}
        }
      ]
    },
    {
      "cell_type": "code",
      "source": [
        "# Load the trained model and tokenizer from the local directory\n",
        "model_path = \"/content/drive/MyDrive/Lighthouse Labs/LLM-Project/notebooks/final-distilbert-model\"  # Update this path with your model directory\n",
        "model = AutoModelForSequenceClassification.from_pretrained(model_path)\n",
        "tokenizer = AutoTokenizer.from_pretrained(model_path)\n",
        "\n",
        "repo_name = \"n4ncy/distilbert-imdb-sentiment\"  # Update with your desired repo name on Hugging Face\n",
        "\n",
        "# Push the model and tokenizer to Hugging Face Hub\n",
        "model.push_to_hub(repo_name)\n",
        "tokenizer.push_to_hub(repo_name)"
      ],
      "metadata": {
        "colab": {
          "base_uri": "https://localhost:8080/",
          "height": 188,
          "referenced_widgets": [
            "02077c1f84d94602a222bcf63ee62eef",
            "951a7c9f3ca842c2bbb7af06820241c6",
            "31febddaa4dd4dd58d332bd10e194061",
            "4cbe04b2ea3c497bba75c42764db588d",
            "520909ebcd6a4231a58f2fb215250fa0",
            "deea01fc34ef43dda926d728c9b70036",
            "53dc79b794c6499a9f264a2a9a5c1dcd",
            "391fb0ff61df472094eeddd88c307b52",
            "93fc2839b8d34a9b85b1026a3710144c",
            "2cdc06433ad94a0da6e736afb838f5af",
            "03b689138983438aa39a6108ae74c915",
            "be00f2a4d2a04425bcb378a7fe1fce3f",
            "03ae9b2c921f47c2a2122b2ff0d1c801",
            "c1dc12d0fd7d4e5da19f13ada7deaeb9",
            "834255c319c3404a9afd26c4beb8b34e",
            "e7a2670e9a1c4b528cf032723014efef",
            "d6257ec1681d4c60b627a1d5117ccd80",
            "2dec8a4572fb4a3fb117d7c194c62b1e",
            "a7901390a128403db4c54b1eeafa9ca3",
            "a4a21a1fc571435ba3bdb6108b5cacb2",
            "dce984e7b6fe476cbd73ee694975f810",
            "fcdedc0e1386410f93e23b8ed57fda39"
          ]
        },
        "id": "1fBvuD9cgEBs",
        "outputId": "8e5a662e-5860-4dec-9888-dcc7352630bd"
      },
      "execution_count": null,
      "outputs": [
        {
          "output_type": "display_data",
          "data": {
            "text/plain": [
              "model.safetensors:   0%|          | 0.00/268M [00:00<?, ?B/s]"
            ],
            "application/vnd.jupyter.widget-view+json": {
              "version_major": 2,
              "version_minor": 0,
              "model_id": "02077c1f84d94602a222bcf63ee62eef"
            }
          },
          "metadata": {}
        },
        {
          "output_type": "display_data",
          "data": {
            "text/plain": [
              "README.md:   0%|          | 0.00/5.17k [00:00<?, ?B/s]"
            ],
            "application/vnd.jupyter.widget-view+json": {
              "version_major": 2,
              "version_minor": 0,
              "model_id": "be00f2a4d2a04425bcb378a7fe1fce3f"
            }
          },
          "metadata": {}
        },
        {
          "output_type": "execute_result",
          "data": {
            "text/plain": [
              "CommitInfo(commit_url='https://huggingface.co/n4ncy/distilbert-imdb-sentiment/commit/e0984854d9eb1ed38ca14a10d5f40b81339fd66c', commit_message='Upload tokenizer', commit_description='', oid='e0984854d9eb1ed38ca14a10d5f40b81339fd66c', pr_url=None, repo_url=RepoUrl('https://huggingface.co/n4ncy/distilbert-imdb-sentiment', endpoint='https://huggingface.co', repo_type='model', repo_id='n4ncy/distilbert-imdb-sentiment'), pr_revision=None, pr_num=None)"
            ],
            "application/vnd.google.colaboratory.intrinsic+json": {
              "type": "string"
            }
          },
          "metadata": {},
          "execution_count": 5
        }
      ]
    },
    {
      "cell_type": "code",
      "source": [
        "from transformers import pipeline\n",
        "\n",
        "# Load the model directly from Hugging Face\n",
        "model = pipeline(\"sentiment-analysis\", model=\"n4ncy/distilbert-imdb-sentiment\")\n",
        "\n",
        "# Example usage\n",
        "result = model(\"This movie was great!\")\n",
        "\n",
        "label_map = {0: \"NEGATIVE\", 1: \"POSITIVE\"}  # Define the mapping based on the model's output\n",
        "\n",
        "result = model(\"This movie was great!\")\n",
        "mapped_resulta= [{\"label\": label_map[int(item[\"label\"].split(\"_\")[1])], \"score\": item[\"score\"]} for item in result]\n",
        "print(mapped_result)\n",
        "\n"
      ],
      "metadata": {
        "colab": {
          "base_uri": "https://localhost:8080/"
        },
        "id": "2UBF0zMpgO_i",
        "outputId": "2048c1cf-5d4e-469c-871d-21763a46e0ca"
      },
      "execution_count": null,
      "outputs": [
        {
          "output_type": "stream",
          "name": "stderr",
          "text": [
            "Device set to use cpu\n"
          ]
        },
        {
          "output_type": "stream",
          "name": "stdout",
          "text": [
            "[{'label': 'POSITIVE', 'score': 0.52217698097229}]\n"
          ]
        }
      ]
    }
  ]
}