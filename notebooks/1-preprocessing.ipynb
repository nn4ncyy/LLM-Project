{
  "cells": [
    {
      "cell_type": "code",
      "execution_count": 1,
      "metadata": {
        "colab": {
          "base_uri": "https://localhost:8080/"
        },
        "id": "7NWsg4z-d4gG",
        "outputId": "fa51af4a-68ac-47ed-f5d2-ee3dde4b509f"
      },
      "outputs": [
        {
          "output_type": "stream",
          "name": "stdout",
          "text": [
            "Mounted at /content/drive\n",
            "/content/drive/MyDrive/Lighthouse Labs/LLM-Project/notebooks\n"
          ]
        }
      ],
      "source": [
        "from google.colab import drive\n",
        "drive.mount('/content/drive')\n",
        "\n",
        "%cd /content/drive/MyDrive/Lighthouse Labs/LLM-Project/notebooks\n"
      ]
    },
    {
      "cell_type": "code",
      "source": [
        "!pip install datasets"
      ],
      "metadata": {
        "colab": {
          "base_uri": "https://localhost:8080/"
        },
        "id": "xykxGDqNemae",
        "outputId": "6b6e2c48-3d22-4301-98fd-4e115c6e6c2a"
      },
      "execution_count": 2,
      "outputs": [
        {
          "output_type": "stream",
          "name": "stdout",
          "text": [
            "Collecting datasets\n",
            "  Downloading datasets-3.5.0-py3-none-any.whl.metadata (19 kB)\n",
            "Requirement already satisfied: filelock in /usr/local/lib/python3.11/dist-packages (from datasets) (3.18.0)\n",
            "Requirement already satisfied: numpy>=1.17 in /usr/local/lib/python3.11/dist-packages (from datasets) (2.0.2)\n",
            "Requirement already satisfied: pyarrow>=15.0.0 in /usr/local/lib/python3.11/dist-packages (from datasets) (18.1.0)\n",
            "Collecting dill<0.3.9,>=0.3.0 (from datasets)\n",
            "  Downloading dill-0.3.8-py3-none-any.whl.metadata (10 kB)\n",
            "Requirement already satisfied: pandas in /usr/local/lib/python3.11/dist-packages (from datasets) (2.2.2)\n",
            "Requirement already satisfied: requests>=2.32.2 in /usr/local/lib/python3.11/dist-packages (from datasets) (2.32.3)\n",
            "Requirement already satisfied: tqdm>=4.66.3 in /usr/local/lib/python3.11/dist-packages (from datasets) (4.67.1)\n",
            "Collecting xxhash (from datasets)\n",
            "  Downloading xxhash-3.5.0-cp311-cp311-manylinux_2_17_x86_64.manylinux2014_x86_64.whl.metadata (12 kB)\n",
            "Collecting multiprocess<0.70.17 (from datasets)\n",
            "  Downloading multiprocess-0.70.16-py311-none-any.whl.metadata (7.2 kB)\n",
            "Collecting fsspec<=2024.12.0,>=2023.1.0 (from fsspec[http]<=2024.12.0,>=2023.1.0->datasets)\n",
            "  Downloading fsspec-2024.12.0-py3-none-any.whl.metadata (11 kB)\n",
            "Requirement already satisfied: aiohttp in /usr/local/lib/python3.11/dist-packages (from datasets) (3.11.15)\n",
            "Requirement already satisfied: huggingface-hub>=0.24.0 in /usr/local/lib/python3.11/dist-packages (from datasets) (0.30.1)\n",
            "Requirement already satisfied: packaging in /usr/local/lib/python3.11/dist-packages (from datasets) (24.2)\n",
            "Requirement already satisfied: pyyaml>=5.1 in /usr/local/lib/python3.11/dist-packages (from datasets) (6.0.2)\n",
            "Requirement already satisfied: aiohappyeyeballs>=2.3.0 in /usr/local/lib/python3.11/dist-packages (from aiohttp->datasets) (2.6.1)\n",
            "Requirement already satisfied: aiosignal>=1.1.2 in /usr/local/lib/python3.11/dist-packages (from aiohttp->datasets) (1.3.2)\n",
            "Requirement already satisfied: attrs>=17.3.0 in /usr/local/lib/python3.11/dist-packages (from aiohttp->datasets) (25.3.0)\n",
            "Requirement already satisfied: frozenlist>=1.1.1 in /usr/local/lib/python3.11/dist-packages (from aiohttp->datasets) (1.5.0)\n",
            "Requirement already satisfied: multidict<7.0,>=4.5 in /usr/local/lib/python3.11/dist-packages (from aiohttp->datasets) (6.2.0)\n",
            "Requirement already satisfied: propcache>=0.2.0 in /usr/local/lib/python3.11/dist-packages (from aiohttp->datasets) (0.3.1)\n",
            "Requirement already satisfied: yarl<2.0,>=1.17.0 in /usr/local/lib/python3.11/dist-packages (from aiohttp->datasets) (1.18.3)\n",
            "Requirement already satisfied: typing-extensions>=3.7.4.3 in /usr/local/lib/python3.11/dist-packages (from huggingface-hub>=0.24.0->datasets) (4.13.1)\n",
            "Requirement already satisfied: charset-normalizer<4,>=2 in /usr/local/lib/python3.11/dist-packages (from requests>=2.32.2->datasets) (3.4.1)\n",
            "Requirement already satisfied: idna<4,>=2.5 in /usr/local/lib/python3.11/dist-packages (from requests>=2.32.2->datasets) (3.10)\n",
            "Requirement already satisfied: urllib3<3,>=1.21.1 in /usr/local/lib/python3.11/dist-packages (from requests>=2.32.2->datasets) (2.3.0)\n",
            "Requirement already satisfied: certifi>=2017.4.17 in /usr/local/lib/python3.11/dist-packages (from requests>=2.32.2->datasets) (2025.1.31)\n",
            "Requirement already satisfied: python-dateutil>=2.8.2 in /usr/local/lib/python3.11/dist-packages (from pandas->datasets) (2.8.2)\n",
            "Requirement already satisfied: pytz>=2020.1 in /usr/local/lib/python3.11/dist-packages (from pandas->datasets) (2025.2)\n",
            "Requirement already satisfied: tzdata>=2022.7 in /usr/local/lib/python3.11/dist-packages (from pandas->datasets) (2025.2)\n",
            "Requirement already satisfied: six>=1.5 in /usr/local/lib/python3.11/dist-packages (from python-dateutil>=2.8.2->pandas->datasets) (1.17.0)\n",
            "Downloading datasets-3.5.0-py3-none-any.whl (491 kB)\n",
            "\u001b[2K   \u001b[90m━━━━━━━━━━━━━━━━━━━━━━━━━━━━━━━━━━━━━━━━\u001b[0m \u001b[32m491.2/491.2 kB\u001b[0m \u001b[31m9.3 MB/s\u001b[0m eta \u001b[36m0:00:00\u001b[0m\n",
            "\u001b[?25hDownloading dill-0.3.8-py3-none-any.whl (116 kB)\n",
            "\u001b[2K   \u001b[90m━━━━━━━━━━━━━━━━━━━━━━━━━━━━━━━━━━━━━━━━\u001b[0m \u001b[32m116.3/116.3 kB\u001b[0m \u001b[31m8.9 MB/s\u001b[0m eta \u001b[36m0:00:00\u001b[0m\n",
            "\u001b[?25hDownloading fsspec-2024.12.0-py3-none-any.whl (183 kB)\n",
            "\u001b[2K   \u001b[90m━━━━━━━━━━━━━━━━━━━━━━━━━━━━━━━━━━━━━━━━\u001b[0m \u001b[32m183.9/183.9 kB\u001b[0m \u001b[31m13.3 MB/s\u001b[0m eta \u001b[36m0:00:00\u001b[0m\n",
            "\u001b[?25hDownloading multiprocess-0.70.16-py311-none-any.whl (143 kB)\n",
            "\u001b[2K   \u001b[90m━━━━━━━━━━━━━━━━━━━━━━━━━━━━━━━━━━━━━━━━\u001b[0m \u001b[32m143.5/143.5 kB\u001b[0m \u001b[31m10.8 MB/s\u001b[0m eta \u001b[36m0:00:00\u001b[0m\n",
            "\u001b[?25hDownloading xxhash-3.5.0-cp311-cp311-manylinux_2_17_x86_64.manylinux2014_x86_64.whl (194 kB)\n",
            "\u001b[2K   \u001b[90m━━━━━━━━━━━━━━━━━━━━━━━━━━━━━━━━━━━━━━━━\u001b[0m \u001b[32m194.8/194.8 kB\u001b[0m \u001b[31m14.7 MB/s\u001b[0m eta \u001b[36m0:00:00\u001b[0m\n",
            "\u001b[?25hInstalling collected packages: xxhash, fsspec, dill, multiprocess, datasets\n",
            "  Attempting uninstall: fsspec\n",
            "    Found existing installation: fsspec 2025.3.2\n",
            "    Uninstalling fsspec-2025.3.2:\n",
            "      Successfully uninstalled fsspec-2025.3.2\n",
            "\u001b[31mERROR: pip's dependency resolver does not currently take into account all the packages that are installed. This behaviour is the source of the following dependency conflicts.\n",
            "torch 2.6.0+cu124 requires nvidia-cublas-cu12==12.4.5.8; platform_system == \"Linux\" and platform_machine == \"x86_64\", but you have nvidia-cublas-cu12 12.5.3.2 which is incompatible.\n",
            "torch 2.6.0+cu124 requires nvidia-cuda-cupti-cu12==12.4.127; platform_system == \"Linux\" and platform_machine == \"x86_64\", but you have nvidia-cuda-cupti-cu12 12.5.82 which is incompatible.\n",
            "torch 2.6.0+cu124 requires nvidia-cuda-nvrtc-cu12==12.4.127; platform_system == \"Linux\" and platform_machine == \"x86_64\", but you have nvidia-cuda-nvrtc-cu12 12.5.82 which is incompatible.\n",
            "torch 2.6.0+cu124 requires nvidia-cuda-runtime-cu12==12.4.127; platform_system == \"Linux\" and platform_machine == \"x86_64\", but you have nvidia-cuda-runtime-cu12 12.5.82 which is incompatible.\n",
            "torch 2.6.0+cu124 requires nvidia-cudnn-cu12==9.1.0.70; platform_system == \"Linux\" and platform_machine == \"x86_64\", but you have nvidia-cudnn-cu12 9.3.0.75 which is incompatible.\n",
            "torch 2.6.0+cu124 requires nvidia-cufft-cu12==11.2.1.3; platform_system == \"Linux\" and platform_machine == \"x86_64\", but you have nvidia-cufft-cu12 11.2.3.61 which is incompatible.\n",
            "torch 2.6.0+cu124 requires nvidia-curand-cu12==10.3.5.147; platform_system == \"Linux\" and platform_machine == \"x86_64\", but you have nvidia-curand-cu12 10.3.6.82 which is incompatible.\n",
            "torch 2.6.0+cu124 requires nvidia-cusolver-cu12==11.6.1.9; platform_system == \"Linux\" and platform_machine == \"x86_64\", but you have nvidia-cusolver-cu12 11.6.3.83 which is incompatible.\n",
            "torch 2.6.0+cu124 requires nvidia-cusparse-cu12==12.3.1.170; platform_system == \"Linux\" and platform_machine == \"x86_64\", but you have nvidia-cusparse-cu12 12.5.1.3 which is incompatible.\n",
            "torch 2.6.0+cu124 requires nvidia-nvjitlink-cu12==12.4.127; platform_system == \"Linux\" and platform_machine == \"x86_64\", but you have nvidia-nvjitlink-cu12 12.5.82 which is incompatible.\n",
            "gcsfs 2025.3.2 requires fsspec==2025.3.2, but you have fsspec 2024.12.0 which is incompatible.\u001b[0m\u001b[31m\n",
            "\u001b[0mSuccessfully installed datasets-3.5.0 dill-0.3.8 fsspec-2024.12.0 multiprocess-0.70.16 xxhash-3.5.0\n"
          ]
        }
      ]
    },
    {
      "cell_type": "code",
      "source": [
        "from datasets import load_dataset\n",
        "import pandas as pd\n",
        "import re\n",
        "\n",
        "# Load the dataset\n",
        "ds = load_dataset('imdb')\n",
        "\n",
        "# Explore the dataset\n",
        "print(ds)\n",
        "print(ds['train'][0])"
      ],
      "metadata": {
        "colab": {
          "base_uri": "https://localhost:8080/",
          "height": 720,
          "referenced_widgets": [
            "701402c3c2ce4039943dd0d2e240caf3",
            "a5a68a6ea7ca47519c51c583af6a98bd",
            "a37b7bce6d14406fa8893c31d763e191",
            "d4daecec5fd0441d99cfc9c2ce0ed135",
            "67406f13498a49189518d6508456146f",
            "70b96cd7290348ac8d59515cf6a114cd",
            "3f6438767f9c49b2b5c744663de72173",
            "7df373ad599b47238484fe9dd856a131",
            "c19b529427c542dfbbde1ee34ecd2fbe",
            "ee6ca09685ae4053a9f4acdeb662d335",
            "30f42e20afcf44fdad0122733149a31b",
            "d543d10542f544e7b9f94b919e7a937c",
            "0cada7e3b11a4c619bf0ebad389038b5",
            "4b875158f62e4ffab573cbc2e6ead1b6",
            "f319276ab61f448f8ec931e88ea8ec96",
            "309afc5922eb4006909e7d0b01147d49",
            "0069991417a94fafab80a9d13800070e",
            "8218618420ba44deb6f3a76492e21939",
            "643fb0f31f59494487b85d7371501ae9",
            "df141063012f435cb023723e8f2d6fad",
            "32d35f201d7643c1875556833e4572ef",
            "87dda5ce085e424892a0724e06de664b",
            "6029f9e23acb4e6e9a45aa2003e16312",
            "85f394c36c564e53b3c0cfb691f3e6fe",
            "ca94c5608a7447c78db2c1eda8601697",
            "2c6206f83e724877a9b7c32af3d2eb02",
            "c7814c6653204ff6a7d533ae4598370a",
            "5fb19873d2734dd1970cbf627ff86c9b",
            "7f8bb9ec4d3e47d6b759e14de49f3c2f",
            "f30d08d950dc4c6e8771d39fd2bed8de",
            "ab63211b5dfb4b75a1994abeecfc53d2",
            "34bc38a926e241a6b81b1d99e048acfd",
            "83650d17526b4f84bfc206c399172639",
            "1aeea67f91f84dd7ade0e30297ba117b",
            "ef4a043061904f8e9281aff142744309",
            "03daee8051194c0fbe4a3f47dde586de",
            "bdacaa3a6b824de7852218e3f9a6041e",
            "9c9f167af8bd4fbaaaa3462778e9deb0",
            "cde5ec86d9284153ac9c139e737e0448",
            "e1e733d2ab544d4c8e5e5d8b164b7caf",
            "e7a09ba982aa47c4b98dc0856699dd7a",
            "29287f2b10a44f1e94ae00ce4c90528a",
            "cf919156376144389386d0b8568e6276",
            "5f5da39d38af45adbd03f03e930688d5",
            "120a42ef29ac474c91713f56378b5ec1",
            "e15cd5e9ca504b309caafbc3d3774f53",
            "9eb05a3073c34452a1d103bab018854c",
            "16333466a299407194a30928a635596f",
            "b7f8d78f16b748d79fe1d2ba57f6a8ac",
            "f79f28d0595a4d579dbce7fdf11218aa",
            "b61614e51ef248a182c00010c72e4bc7",
            "d85f849085dc43bdbbb2d7a9c4b2d422",
            "dea93d059afa42c48c41360190aee2f5",
            "34960f89407146d99ad43cbfc1349d55",
            "b5b150fd2e3847c59dc9b844c360fb5d",
            "dd900075cd60485fba2990a12dc823df",
            "80f16ea99090481a8a9b7edb2822a4be",
            "7baf6a72b06b4c3e9c48cabbd6aa671d",
            "9237b93796e9479bb7bf1cc9199ddfd0",
            "58629c47b9f940798d1ce12dcac6caf0",
            "e62f0141ef86493ca6c7d32bc065ab51",
            "731d6335993645c4a2ed30954aab115a",
            "ec2ecc4bd7d6474dab06cf67a976f9a1",
            "ea9222095a654576a759a24370d73da4",
            "c97c39aa01b542dcad07ac77ab691df3",
            "2b7e8c31c10f44e9916b2c36b7f6859e",
            "e16fbdb6a67b4ceaa72bd11ee55c9ef3",
            "0e261bfd864d4114b9845a1ae0d904fe",
            "0e782cbc03904832b29e05edac865fcb",
            "c3ee7ac0c25944729148723a82839b11",
            "2dcea5956714409593fdae3793743e26",
            "95b0321aaa29438096d642b50a6c7818",
            "95f830e52573481bb24b2254f28efea9",
            "6da4c61c19144bc2bb5cd7f01225d1cc",
            "8c9ccd36c09d4f529a1034277ed9a13b",
            "549c9b2ee6224cc88e6cdef75bd070b4",
            "3f018a3cf46f4099bcda59e0cb0dd0d6"
          ]
        },
        "id": "u4_9XRVPe1vX",
        "outputId": "37ee4b15-f381-4d10-c349-ab93f2c477b7"
      },
      "execution_count": 3,
      "outputs": [
        {
          "output_type": "stream",
          "name": "stderr",
          "text": [
            "/usr/local/lib/python3.11/dist-packages/huggingface_hub/utils/_auth.py:94: UserWarning: \n",
            "The secret `HF_TOKEN` does not exist in your Colab secrets.\n",
            "To authenticate with the Hugging Face Hub, create a token in your settings tab (https://huggingface.co/settings/tokens), set it as secret in your Google Colab and restart your session.\n",
            "You will be able to reuse this secret in all of your notebooks.\n",
            "Please note that authentication is recommended but still optional to access public models or datasets.\n",
            "  warnings.warn(\n"
          ]
        },
        {
          "output_type": "display_data",
          "data": {
            "text/plain": [
              "README.md:   0%|          | 0.00/7.81k [00:00<?, ?B/s]"
            ],
            "application/vnd.jupyter.widget-view+json": {
              "version_major": 2,
              "version_minor": 0,
              "model_id": "701402c3c2ce4039943dd0d2e240caf3"
            }
          },
          "metadata": {}
        },
        {
          "output_type": "display_data",
          "data": {
            "text/plain": [
              "train-00000-of-00001.parquet:   0%|          | 0.00/21.0M [00:00<?, ?B/s]"
            ],
            "application/vnd.jupyter.widget-view+json": {
              "version_major": 2,
              "version_minor": 0,
              "model_id": "d543d10542f544e7b9f94b919e7a937c"
            }
          },
          "metadata": {}
        },
        {
          "output_type": "display_data",
          "data": {
            "text/plain": [
              "test-00000-of-00001.parquet:   0%|          | 0.00/20.5M [00:00<?, ?B/s]"
            ],
            "application/vnd.jupyter.widget-view+json": {
              "version_major": 2,
              "version_minor": 0,
              "model_id": "6029f9e23acb4e6e9a45aa2003e16312"
            }
          },
          "metadata": {}
        },
        {
          "output_type": "display_data",
          "data": {
            "text/plain": [
              "unsupervised-00000-of-00001.parquet:   0%|          | 0.00/42.0M [00:00<?, ?B/s]"
            ],
            "application/vnd.jupyter.widget-view+json": {
              "version_major": 2,
              "version_minor": 0,
              "model_id": "1aeea67f91f84dd7ade0e30297ba117b"
            }
          },
          "metadata": {}
        },
        {
          "output_type": "display_data",
          "data": {
            "text/plain": [
              "Generating train split:   0%|          | 0/25000 [00:00<?, ? examples/s]"
            ],
            "application/vnd.jupyter.widget-view+json": {
              "version_major": 2,
              "version_minor": 0,
              "model_id": "120a42ef29ac474c91713f56378b5ec1"
            }
          },
          "metadata": {}
        },
        {
          "output_type": "display_data",
          "data": {
            "text/plain": [
              "Generating test split:   0%|          | 0/25000 [00:00<?, ? examples/s]"
            ],
            "application/vnd.jupyter.widget-view+json": {
              "version_major": 2,
              "version_minor": 0,
              "model_id": "dd900075cd60485fba2990a12dc823df"
            }
          },
          "metadata": {}
        },
        {
          "output_type": "display_data",
          "data": {
            "text/plain": [
              "Generating unsupervised split:   0%|          | 0/50000 [00:00<?, ? examples/s]"
            ],
            "application/vnd.jupyter.widget-view+json": {
              "version_major": 2,
              "version_minor": 0,
              "model_id": "e16fbdb6a67b4ceaa72bd11ee55c9ef3"
            }
          },
          "metadata": {}
        },
        {
          "output_type": "stream",
          "name": "stdout",
          "text": [
            "DatasetDict({\n",
            "    train: Dataset({\n",
            "        features: ['text', 'label'],\n",
            "        num_rows: 25000\n",
            "    })\n",
            "    test: Dataset({\n",
            "        features: ['text', 'label'],\n",
            "        num_rows: 25000\n",
            "    })\n",
            "    unsupervised: Dataset({\n",
            "        features: ['text', 'label'],\n",
            "        num_rows: 50000\n",
            "    })\n",
            "})\n",
            "{'text': 'I rented I AM CURIOUS-YELLOW from my video store because of all the controversy that surrounded it when it was first released in 1967. I also heard that at first it was seized by U.S. customs if it ever tried to enter this country, therefore being a fan of films considered \"controversial\" I really had to see this for myself.<br /><br />The plot is centered around a young Swedish drama student named Lena who wants to learn everything she can about life. In particular she wants to focus her attentions to making some sort of documentary on what the average Swede thought about certain political issues such as the Vietnam War and race issues in the United States. In between asking politicians and ordinary denizens of Stockholm about their opinions on politics, she has sex with her drama teacher, classmates, and married men.<br /><br />What kills me about I AM CURIOUS-YELLOW is that 40 years ago, this was considered pornographic. Really, the sex and nudity scenes are few and far between, even then it\\'s not shot like some cheaply made porno. While my countrymen mind find it shocking, in reality sex and nudity are a major staple in Swedish cinema. Even Ingmar Bergman, arguably their answer to good old boy John Ford, had sex scenes in his films.<br /><br />I do commend the filmmakers for the fact that any sex shown in the film is shown for artistic purposes rather than just to shock people and make money to be shown in pornographic theaters in America. I AM CURIOUS-YELLOW is a good film for anyone wanting to study the meat and potatoes (no pun intended) of Swedish cinema. But really, this film doesn\\'t have much of a plot.', 'label': 0}\n"
          ]
        }
      ]
    },
    {
      "cell_type": "markdown",
      "source": [
        "# EDA"
      ],
      "metadata": {
        "id": "0gXQ0z9YbbkG"
      }
    },
    {
      "cell_type": "code",
      "source": [
        "from datasets import load_dataset\n",
        "import pandas as pd\n",
        "import matplotlib.pyplot as plt\n",
        "\n",
        "dataset = load_dataset(\"imdb\")\n",
        "\n",
        "# Convert train set to dataframe for easier EDA\n",
        "df = pd.DataFrame(dataset[\"train\"])\n",
        "\n",
        "# Plot label counts\n",
        "label_counts = df['label'].value_counts()\n",
        "label_counts.plot(kind='bar')\n",
        "plt.title(\"Label Distribution\")\n",
        "plt.xlabel(\"Label\")\n",
        "plt.ylabel(\"Count\")\n",
        "plt.xticks(ticks=[0, 1], labels=[\"Negative\", \"Positive\"], rotation=0)\n",
        "plt.show()\n"
      ],
      "metadata": {
        "colab": {
          "base_uri": "https://localhost:8080/",
          "height": 472
        },
        "id": "JaHeMHxmbazF",
        "outputId": "c2850d52-7d0d-47f3-9568-eb253e1b5ba2"
      },
      "execution_count": 5,
      "outputs": [
        {
          "output_type": "display_data",
          "data": {
            "text/plain": [
              "<Figure size 640x480 with 1 Axes>"
            ],
            "image/png": "[encoded data removed]"
          },
          "metadata": {}
        }
      ]
    },
    {
      "cell_type": "code",
      "source": [
        "def clean_text(text):\n",
        "    text = text.replace(\"<br />\", \" \").replace(\"br\", \" \")  # Remove HTML line breaks\n",
        "    text = re.sub(r'[^a-zA-Z\\s]', '', text)  # Keep only letters and spaces\n",
        "    return text.lower().strip()\n",
        "\n",
        "\n",
        "# Apply cleaning function to the 'text' field\n",
        "def preprocess_function(example):\n",
        "    example[\"text\"] = clean_text(example[\"text\"])\n",
        "    return example\n"
      ],
      "metadata": {
        "id": "7FpBHEwHezyu"
      },
      "execution_count": null,
      "outputs": []
    },
    {
      "cell_type": "code",
      "source": [
        "# Apply preprocessing to dataset\n",
        "new_ds = ds.map(preprocess_function)"
      ],
      "metadata": {
        "colab": {
          "base_uri": "https://localhost:8080/",
          "height": 113,
          "referenced_widgets": [
            "42585606ac89447bb48042f84ff39053",
            "10b60861c91c499f9b1d234a23ae7b57",
            "ed8c49119ee44097bb0deb0885e6cccc",
            "3aa0fe76e2ab4cdeae8acc704b0f22da",
            "3f5d73f04797436d9665a504aa64b70d",
            "e632c7e6f57e4136822dea8f7bce1018",
            "3bb1fd64e4dc4277a825ddd936582722",
            "9faa243f63394d979f7fb08533003e29",
            "4ded5cce674940a78da0b2bbe3b8bef6",
            "f6379f99db344453b6fb06330ae0e383",
            "fee8ffcb65314537bbaf45aab621b9e0",
            "25ee6f8ebf0947479f1a0b4b4fb9d311",
            "71c936fefc844ff2833ddcd5468638e1",
            "1e732bf3a57241aeb1321636615e6039",
            "27c67050a5b6429e8bd155a1ea48a889",
            "e36ba9a12b434622bc1aa5d235b83d24",
            "b36bea64895f4de6bdbf264e8abae39f",
            "c565dfd8d8924783bdf874b0ff02ba71",
            "eb45052499ae4986833963d4a86a23bc",
            "96b9c58a807140afac18f39d6a38f2da",
            "d5292fd2af4c4115a6c130c399031058",
            "7fd993ff36ef4b139a305d602db56541",
            "8b7193fa865c45449fcfa7a09e305658",
            "dfe704116793474e9e4d8378f0ac8a72",
            "ca378be2eb2d4e118380defbb2086873",
            "6688b8f68a7248c688a169a5a488d852",
            "7c516f65c2934447aeadf04bb4ae1cfa",
            "235ea95ae49640f2b336920b48790642",
            "680a2f0309644382a505ced324437ddb",
            "1518e2eaddb747a3942bb000363df6de",
            "7c8cc964c04b466aa259d9c8d845ee7d",
            "cf69c768d6a4422f9dfcf75013c8e880",
            "e3b1b5f14e8a421f958a4a6aa509c137"
          ]
        },
        "id": "HrSvut2_e9Jx",
        "outputId": "b6ec6b24-d52c-45f2-c94f-3c44e643f94f"
      },
      "execution_count": null,
      "outputs": [
        {
          "output_type": "display_data",
          "data": {
            "text/plain": [
              "Map:   0%|          | 0/25000 [00:00<?, ? examples/s]"
            ],
            "application/vnd.jupyter.widget-view+json": {
              "version_major": 2,
              "version_minor": 0,
              "model_id": "42585606ac89447bb48042f84ff39053"
            }
          },
          "metadata": {}
        },
        {
          "output_type": "display_data",
          "data": {
            "text/plain": [
              "Map:   0%|          | 0/25000 [00:00<?, ? examples/s]"
            ],
            "application/vnd.jupyter.widget-view+json": {
              "version_major": 2,
              "version_minor": 0,
              "model_id": "25ee6f8ebf0947479f1a0b4b4fb9d311"
            }
          },
          "metadata": {}
        },
        {
          "output_type": "display_data",
          "data": {
            "text/plain": [
              "Map:   0%|          | 0/50000 [00:00<?, ? examples/s]"
            ],
            "application/vnd.jupyter.widget-view+json": {
              "version_major": 2,
              "version_minor": 0,
              "model_id": "8b7193fa865c45449fcfa7a09e305658"
            }
          },
          "metadata": {}
        }
      ]
    },
    {
      "cell_type": "code",
      "source": [
        "# Verifying the preprocessed data\n",
        "print(new_ds['train'][0])"
      ],
      "metadata": {
        "colab": {
          "base_uri": "https://localhost:8080/"
        },
        "id": "XIK2HPtSe-2W",
        "outputId": "29aa7e80-3b6e-4135-e3d3-8149775b5aec"
      },
      "execution_count": null,
      "outputs": [
        {
          "output_type": "stream",
          "name": "stdout",
          "text": [
            "{'text': 'i rented i am curiousyellow from my video store because of all the controversy that surrounded it when it was first released in  i also heard that at first it was seized by us customs if it ever tried to enter this country therefore being a fan of films considered controversial i really had to see this for myself  the plot is centered around a young swedish drama student named lena who wants to learn everything she can about life in particular she wants to focus her attentions to making some sort of documentary on what the average swede thought about certain political issues such as the vietnam war and race issues in the united states in between asking politicians and ordinary denizens of stockholm about their opinions on politics she has sex with her drama teacher classmates and married men  what kills me about i am curiousyellow is that  years ago this was considered pornographic really the sex and nudity scenes are few and far between even then its not shot like some cheaply made porno while my countrymen mind find it shocking in reality sex and nudity are a major staple in swedish cinema even ingmar bergman arguably their answer to good old boy john ford had sex scenes in his films  i do commend the filmmakers for the fact that any sex shown in the film is shown for artistic purposes rather than just to shock people and make money to be shown in pornographic theaters in america i am curiousyellow is a good film for anyone wanting to study the meat and potatoes no pun intended of swedish cinema but really this film doesnt have much of a plot', 'label': 0}\n"
          ]
        }
      ]
    },
    {
      "cell_type": "code",
      "source": [
        "# save data to use in the future\n",
        "# Save the dataset to a JSON file\n",
        "new_ds.save_to_disk(\"/content/drive/MyDrive/Lighthouse Labs/LLM-Project/notebooks\")\n"
      ],
      "metadata": {
        "colab": {
          "base_uri": "https://localhost:8080/",
          "height": 113,
          "referenced_widgets": [
            "6760020cea3b4253b2d11cd09e9a3b3a",
            "b4e9a9b126d648b9a93448e27bf73a47",
            "052c772f66f04dff9163a48870d954bd",
            "7053a21e940e4428ada095422b7de9e6",
            "9be5c936ef6247a7826d5a66fc2161ab",
            "4419bd885f9c4a99aa5232a8a714cacf",
            "1a97263ed4524d93a89a68fa33c36200",
            "db49d9edfe854af287e5cfe956026e9b",
            "84584be92a9a4472bfe9d361a953f201",
            "f5e59b5f681947e2a8950040390bc06e",
            "685befe6e3b349cab9bf7dcb46db36c3",
            "0febfe4d3cbf4c10aa6619a9f6853b31",
            "10440bfdce4b42d18b36cbf2ce729fa5",
            "05d7451fdabe4a35944e2ecd63cc7982",
            "44ca70e663894dbfb91c01451ee8748d",
            "c914bb547eca4bbc99fd771a659ed5cc",
            "76ae3d7eb72744a79120206b460d3ae4",
            "ef2caf1a8dd648a7906151ab1d54400c",
            "4a9bdc92d6324f36b54dc22930a9802a",
            "13f4e8e380bc417aaf9f039e6e0f0d80",
            "b63b3f2452c04fceaefd5464170952e7",
            "7ddcb5b3402e42eaa523bcc034c9688c",
            "c042e34bc7fb4c0fa062182d2a098c04",
            "8e13f8d219ad45c78794a030cb72c169",
            "d739a35cf85e4d9ba8d42b37c6bde067",
            "6242650dcce4427da2196a92b77debdb",
            "e20bd336e29549bfb6fe6b73bc4b9219",
            "05c468ad09f144538de2e5b1cc76de6a",
            "b1112db0cad64f3ca2e3b430c2cd26ca",
            "e05e469db3be4e9294fc4b5fa3ce440c",
            "d0c5cae0525f40acbf2409dc40ff3cb6",
            "24993bb5ebda4889b41b3e45a5b8f705",
            "1bf4bc3995db45ffa8d5d6aae18b6d4c"
          ]
        },
        "id": "P4JpMMWKgOMl",
        "outputId": "bd5d297b-1876-47e5-8253-294495b8b06c"
      },
      "execution_count": null,
      "outputs": [
        {
          "output_type": "display_data",
          "data": {
            "text/plain": [
              "Saving the dataset (0/1 shards):   0%|          | 0/25000 [00:00<?, ? examples/s]"
            ],
            "application/vnd.jupyter.widget-view+json": {
              "version_major": 2,
              "version_minor": 0,
              "model_id": "6760020cea3b4253b2d11cd09e9a3b3a"
            }
          },
          "metadata": {}
        },
        {
          "output_type": "display_data",
          "data": {
            "text/plain": [
              "Saving the dataset (0/1 shards):   0%|          | 0/25000 [00:00<?, ? examples/s]"
            ],
            "application/vnd.jupyter.widget-view+json": {
              "version_major": 2,
              "version_minor": 0,
              "model_id": "0febfe4d3cbf4c10aa6619a9f6853b31"
            }
          },
          "metadata": {}
        },
        {
          "output_type": "display_data",
          "data": {
            "text/plain": [
              "Saving the dataset (0/1 shards):   0%|          | 0/50000 [00:00<?, ? examples/s]"
            ],
            "application/vnd.jupyter.widget-view+json": {
              "version_major": 2,
              "version_minor": 0,
              "model_id": "c042e34bc7fb4c0fa062182d2a098c04"
            }
          },
          "metadata": {}
        }
      ]
    }
  ],
  "metadata": {
    "language_info": {
      "name": "python"
    },
    "orig_nbformat": 4,
    "colab": {
      "provenance": []
    },
    "kernelspec": {
      "name": "python3",
      "display_name": "Python 3"
    }
  },
  "nbformat": 4,
  "nbformat_minor": 0
}