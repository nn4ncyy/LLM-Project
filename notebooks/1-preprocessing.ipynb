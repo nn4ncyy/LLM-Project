{
 "cells": [
  {
   "cell_type": "code",
   "execution_count": 2,
   "metadata": {
    "colab": {
     "base_uri": "https://localhost:8080/"
    },
    "executionInfo": {
     "elapsed": 9286,
     "status": "ok",
     "timestamp": 1744001352476,
     "user": {
      "displayName": "Nancy Dinh",
      "userId": "12870101503004733671"
     },
     "user_tz": 360
    },
    "id": "7NWsg4z-d4gG",
    "outputId": "d3c8f31e-99ae-43e5-bc45-3e7495fa3993"
   },
   "outputs": [
    {
     "name": "stdout",
     "output_type": "stream",
     "text": [
      "Mounted at /content/drive\n",
      "/content/drive/MyDrive/Lighthouse Labs/LLM-Project/notebooks\n"
     ]
    }
   ],
   "source": [
    "from google.colab import drive\n",
    "drive.mount('/content/drive')\n",
    "\n",
    "%cd /content/drive/MyDrive/Lighthouse Labs/LLM-Project/notebooks\n"
   ]
  },
  {
   "cell_type": "code",
   "execution_count": 3,
   "metadata": {
    "colab": {
     "base_uri": "https://localhost:8080/"
    },
    "executionInfo": {
     "elapsed": 5980,
     "status": "ok",
     "timestamp": 1744001365490,
     "user": {
      "displayName": "Nancy Dinh",
      "userId": "12870101503004733671"
     },
     "user_tz": 360
    },
    "id": "xykxGDqNemae",
    "outputId": "871c4465-d43e-45de-c60c-541bd83c60b5"
   },
   "outputs": [
    {
     "name": "stdout",
     "output_type": "stream",
     "text": [
      "Collecting datasets\n",
      "  Downloading datasets-3.5.0-py3-none-any.whl.metadata (19 kB)\n",
      "Requirement already satisfied: filelock in /usr/local/lib/python3.11/dist-packages (from datasets) (3.18.0)\n",
      "Requirement already satisfied: numpy>=1.17 in /usr/local/lib/python3.11/dist-packages (from datasets) (2.0.2)\n",
      "Requirement already satisfied: pyarrow>=15.0.0 in /usr/local/lib/python3.11/dist-packages (from datasets) (18.1.0)\n",
      "Collecting dill<0.3.9,>=0.3.0 (from datasets)\n",
      "  Downloading dill-0.3.8-py3-none-any.whl.metadata (10 kB)\n",
      "Requirement already satisfied: pandas in /usr/local/lib/python3.11/dist-packages (from datasets) (2.2.2)\n",
      "Requirement already satisfied: requests>=2.32.2 in /usr/local/lib/python3.11/dist-packages (from datasets) (2.32.3)\n",
      "Requirement already satisfied: tqdm>=4.66.3 in /usr/local/lib/python3.11/dist-packages (from datasets) (4.67.1)\n",
      "Collecting xxhash (from datasets)\n",
      "  Downloading xxhash-3.5.0-cp311-cp311-manylinux_2_17_x86_64.manylinux2014_x86_64.whl.metadata (12 kB)\n",
      "Collecting multiprocess<0.70.17 (from datasets)\n",
      "  Downloading multiprocess-0.70.16-py311-none-any.whl.metadata (7.2 kB)\n",
      "Collecting fsspec<=2024.12.0,>=2023.1.0 (from fsspec[http]<=2024.12.0,>=2023.1.0->datasets)\n",
      "  Downloading fsspec-2024.12.0-py3-none-any.whl.metadata (11 kB)\n",
      "Requirement already satisfied: aiohttp in /usr/local/lib/python3.11/dist-packages (from datasets) (3.11.15)\n",
      "Requirement already satisfied: huggingface-hub>=0.24.0 in /usr/local/lib/python3.11/dist-packages (from datasets) (0.30.1)\n",
      "Requirement already satisfied: packaging in /usr/local/lib/python3.11/dist-packages (from datasets) (24.2)\n",
      "Requirement already satisfied: pyyaml>=5.1 in /usr/local/lib/python3.11/dist-packages (from datasets) (6.0.2)\n",
      "Requirement already satisfied: aiohappyeyeballs>=2.3.0 in /usr/local/lib/python3.11/dist-packages (from aiohttp->datasets) (2.6.1)\n",
      "Requirement already satisfied: aiosignal>=1.1.2 in /usr/local/lib/python3.11/dist-packages (from aiohttp->datasets) (1.3.2)\n",
      "Requirement already satisfied: attrs>=17.3.0 in /usr/local/lib/python3.11/dist-packages (from aiohttp->datasets) (25.3.0)\n",
      "Requirement already satisfied: frozenlist>=1.1.1 in /usr/local/lib/python3.11/dist-packages (from aiohttp->datasets) (1.5.0)\n",
      "Requirement already satisfied: multidict<7.0,>=4.5 in /usr/local/lib/python3.11/dist-packages (from aiohttp->datasets) (6.3.1)\n",
      "Requirement already satisfied: propcache>=0.2.0 in /usr/local/lib/python3.11/dist-packages (from aiohttp->datasets) (0.3.1)\n",
      "Requirement already satisfied: yarl<2.0,>=1.17.0 in /usr/local/lib/python3.11/dist-packages (from aiohttp->datasets) (1.18.3)\n",
      "Requirement already satisfied: typing-extensions>=3.7.4.3 in /usr/local/lib/python3.11/dist-packages (from huggingface-hub>=0.24.0->datasets) (4.13.0)\n",
      "Requirement already satisfied: charset-normalizer<4,>=2 in /usr/local/lib/python3.11/dist-packages (from requests>=2.32.2->datasets) (3.4.1)\n",
      "Requirement already satisfied: idna<4,>=2.5 in /usr/local/lib/python3.11/dist-packages (from requests>=2.32.2->datasets) (3.10)\n",
      "Requirement already satisfied: urllib3<3,>=1.21.1 in /usr/local/lib/python3.11/dist-packages (from requests>=2.32.2->datasets) (2.3.0)\n",
      "Requirement already satisfied: certifi>=2017.4.17 in /usr/local/lib/python3.11/dist-packages (from requests>=2.32.2->datasets) (2025.1.31)\n",
      "Requirement already satisfied: python-dateutil>=2.8.2 in /usr/local/lib/python3.11/dist-packages (from pandas->datasets) (2.8.2)\n",
      "Requirement already satisfied: pytz>=2020.1 in /usr/local/lib/python3.11/dist-packages (from pandas->datasets) (2025.2)\n",
      "Requirement already satisfied: tzdata>=2022.7 in /usr/local/lib/python3.11/dist-packages (from pandas->datasets) (2025.2)\n",
      "Requirement already satisfied: six>=1.5 in /usr/local/lib/python3.11/dist-packages (from python-dateutil>=2.8.2->pandas->datasets) (1.17.0)\n",
      "Downloading datasets-3.5.0-py3-none-any.whl (491 kB)\n",
      "\u001b[2K   \u001b[90m━━━━━━━━━━━━━━━━━━━━━━━━━━━━━━━━━━━━━━━━\u001b[0m \u001b[32m491.2/491.2 kB\u001b[0m \u001b[31m13.0 MB/s\u001b[0m eta \u001b[36m0:00:00\u001b[0m\n",
      "\u001b[?25hDownloading dill-0.3.8-py3-none-any.whl (116 kB)\n",
      "\u001b[2K   \u001b[90m━━━━━━━━━━━━━━━━━━━━━━━━━━━━━━━━━━━━━━━━\u001b[0m \u001b[32m116.3/116.3 kB\u001b[0m \u001b[31m8.3 MB/s\u001b[0m eta \u001b[36m0:00:00\u001b[0m\n",
      "\u001b[?25hDownloading fsspec-2024.12.0-py3-none-any.whl (183 kB)\n",
      "\u001b[2K   \u001b[90m━━━━━━━━━━━━━━━━━━━━━━━━━━━━━━━━━━━━━━━━\u001b[0m \u001b[32m183.9/183.9 kB\u001b[0m \u001b[31m13.9 MB/s\u001b[0m eta \u001b[36m0:00:00\u001b[0m\n",
      "\u001b[?25hDownloading multiprocess-0.70.16-py311-none-any.whl (143 kB)\n",
      "\u001b[2K   \u001b[90m━━━━━━━━━━━━━━━━━━━━━━━━━━━━━━━━━━━━━━━━\u001b[0m \u001b[32m143.5/143.5 kB\u001b[0m \u001b[31m11.5 MB/s\u001b[0m eta \u001b[36m0:00:00\u001b[0m\n",
      "\u001b[?25hDownloading xxhash-3.5.0-cp311-cp311-manylinux_2_17_x86_64.manylinux2014_x86_64.whl (194 kB)\n",
      "\u001b[2K   \u001b[90m━━━━━━━━━━━━━━━━━━━━━━━━━━━━━━━━━━━━━━━━\u001b[0m \u001b[32m194.8/194.8 kB\u001b[0m \u001b[31m14.2 MB/s\u001b[0m eta \u001b[36m0:00:00\u001b[0m\n",
      "\u001b[?25hInstalling collected packages: xxhash, fsspec, dill, multiprocess, datasets\n",
      "  Attempting uninstall: fsspec\n",
      "    Found existing installation: fsspec 2025.3.2\n",
      "    Uninstalling fsspec-2025.3.2:\n",
      "      Successfully uninstalled fsspec-2025.3.2\n",
      "\u001b[31mERROR: pip's dependency resolver does not currently take into account all the packages that are installed. This behaviour is the source of the following dependency conflicts.\n",
      "torch 2.6.0+cu124 requires nvidia-cublas-cu12==12.4.5.8; platform_system == \"Linux\" and platform_machine == \"x86_64\", but you have nvidia-cublas-cu12 12.5.3.2 which is incompatible.\n",
      "torch 2.6.0+cu124 requires nvidia-cuda-cupti-cu12==12.4.127; platform_system == \"Linux\" and platform_machine == \"x86_64\", but you have nvidia-cuda-cupti-cu12 12.5.82 which is incompatible.\n",
      "torch 2.6.0+cu124 requires nvidia-cuda-nvrtc-cu12==12.4.127; platform_system == \"Linux\" and platform_machine == \"x86_64\", but you have nvidia-cuda-nvrtc-cu12 12.5.82 which is incompatible.\n",
      "torch 2.6.0+cu124 requires nvidia-cuda-runtime-cu12==12.4.127; platform_system == \"Linux\" and platform_machine == \"x86_64\", but you have nvidia-cuda-runtime-cu12 12.5.82 which is incompatible.\n",
      "torch 2.6.0+cu124 requires nvidia-cudnn-cu12==9.1.0.70; platform_system == \"Linux\" and platform_machine == \"x86_64\", but you have nvidia-cudnn-cu12 9.3.0.75 which is incompatible.\n",
      "torch 2.6.0+cu124 requires nvidia-cufft-cu12==11.2.1.3; platform_system == \"Linux\" and platform_machine == \"x86_64\", but you have nvidia-cufft-cu12 11.2.3.61 which is incompatible.\n",
      "torch 2.6.0+cu124 requires nvidia-curand-cu12==10.3.5.147; platform_system == \"Linux\" and platform_machine == \"x86_64\", but you have nvidia-curand-cu12 10.3.6.82 which is incompatible.\n",
      "torch 2.6.0+cu124 requires nvidia-cusolver-cu12==11.6.1.9; platform_system == \"Linux\" and platform_machine == \"x86_64\", but you have nvidia-cusolver-cu12 11.6.3.83 which is incompatible.\n",
      "torch 2.6.0+cu124 requires nvidia-cusparse-cu12==12.3.1.170; platform_system == \"Linux\" and platform_machine == \"x86_64\", but you have nvidia-cusparse-cu12 12.5.1.3 which is incompatible.\n",
      "torch 2.6.0+cu124 requires nvidia-nvjitlink-cu12==12.4.127; platform_system == \"Linux\" and platform_machine == \"x86_64\", but you have nvidia-nvjitlink-cu12 12.5.82 which is incompatible.\n",
      "gcsfs 2025.3.2 requires fsspec==2025.3.2, but you have fsspec 2024.12.0 which is incompatible.\u001b[0m\u001b[31m\n",
      "\u001b[0mSuccessfully installed datasets-3.5.0 dill-0.3.8 fsspec-2024.12.0 multiprocess-0.70.16 xxhash-3.5.0\n"
     ]
    }
   ],
   "source": [
    "!pip install datasets"
   ]
  },
  {
   "cell_type": "code",
   "execution_count": 4,
   "metadata": {
    "colab": {
     "base_uri": "https://localhost:8080/",
     "height": 636,
     "referenced_widgets": [
      "90eddee1b0f9483480469d8085809c8f",
      "edef211380be46c2be44c8aa3d47fcb3",
      "5044d85418334f7284a97e06a0551bba",
      "8a7cfd4695ac48279a9b5ccb758bf4d0",
      "6b3689873bac40db8867ac631486fd56",
      "301a77f4422443058aa4f498d732e97e",
      "5ffc06d447e0439b8b3ffd5a8d6f6e8b",
      "a6a55e37fd88472787a86ed1d3998ede",
      "36f8f5f649ae43999254faf1807e1b50",
      "69cbb97d45bc48779c7f597be35a43f0",
      "37fc3a0d011041fcb9c927d8e556fa8e",
      "96d5b21c0b4946ddbeb5864229c24d1c",
      "8cf2e3a3a47b40808b4e26fb1e1a6b52",
      "0af513be7c564b6ca6ea93f5202d2da9",
      "692965e2b18d4f2581499ba902ee6f17",
      "69e790f1a8f94b87bdd6206b1ef31c9b",
      "bcfc4bb094934f3dbe7e92ab1056ae6a",
      "11f7936041814314ad34adcaa9c0d857",
      "9ebc18ffb5b8499cb53743cdc72b27c9",
      "451e47a581354056bf0eea062b339311",
      "5c96b862d9214dac87138594dfd58062",
      "3d8a981f27df4d7587d1825cb2799d25",
      "a3393826f92d489ea406511da458c33f",
      "61840dc6d17949689f958641dacd0433",
      "cd2e3eba7d6f474d983c95b13646a48c",
      "537f7ee0c6204c2eb25a62bd5675fd19",
      "21ddedcbec5544609e1c802def1b83a8",
      "d0ef1d0cf0fc496494e902d992b0a6ca",
      "ca4e73aa948944a982b61f8136c90459",
      "469ccf460dd8454b8ee47dc7515fca31",
      "ccc63b7fa249490bb0d39c12b95db1f1",
      "cd38a3022c65465f8af3a85e63f6ec13",
      "94a19c4cd8364ae6963000e8a7f01775",
      "53fa110401f44231937bcfe278fb1c75",
      "48e04b192a5f4c4db53ccb226b655fb2",
      "07d786a4d3404c1eaa4846f6f6a0c0f7",
      "66d352ad4e004bb5add2d6cef431be05",
      "90dd9da0f5054ba481150fa51df84a60",
      "8f84b270d5fc4be19fa8b103e88eb0b1",
      "47dc9aa2ad1d41e3b2370d4525fa6a11",
      "1277b58972024c40ba3226fb22c71f9b",
      "f5d7178df2504bda8f2e5e51c66eaccb",
      "74b551cb13624305b6898b0c85463e1f",
      "3d934a25f7e547f58e470f41e767f1d2",
      "6228658bed9e4af6be15bc26562c7c69",
      "a765d8897f3e468e8fca84f2bb21c0e8",
      "8f31e888a0964cb4a7449748074b1046",
      "0fd865e9f2724e48b7625686174d77a1",
      "073acb07531b484d96ffe329d9a8262a",
      "f9046a3ce848495ab5c8c22bd387c600",
      "da980b021ed34a26be9ce1c3f31a3bd1",
      "780927930a124526a678d8ff98a3c144",
      "e5faf6a68e5d48e588647b691ae11a17",
      "069c0c700f744c24857a810f6198024a",
      "a6e616efee04497383004546f9196551",
      "538e83c3b7ae40e3a4dcf5d721640cfb",
      "48ad41e02c57478a8f655dcf4e5fd2ab",
      "19fe7a220b6d4419b70d51e39efd41bc",
      "1a87a722a16d4d86a7c7dc1f7ac608b6",
      "781dcaf5c7404f11bd354b7d2e69990a",
      "485a41cd9a0f4c9dabe3406e82bcfea7",
      "401f2bd45fee430f92b965c32f39ea01",
      "73a209370fb145cb8cd21c805fc3d04f",
      "60374d65970e4aa3be8e0b17fddd2dfc",
      "b510c61b4b074833917ebeb1116f8cdd",
      "f7399232e45d43949bad2499ef45bb1b",
      "31e3c5df03844309bc915f18b5c3bda7",
      "e3c9e27f7cbe4035a7402ef684c9c684",
      "d8517efc34a448d3954aa81efe2cb683",
      "818b3e3bb17a4ccfbe7bc0379e0386e4",
      "06539683589d4c7a8c0241114ce3ec30",
      "48eb0bff6a85433bbd31f27068af4bed",
      "e77aa4e758974666bf91f1bfc685cce9",
      "aed285c11a914ef181431d988292983c",
      "0bc27ff795ba4b03b5afa1aff166db49",
      "c4d46e18c47a4da18ce6719ea1ac155a",
      "98595950a6dc40ac9cc80a49456a633f"
     ]
    },
    "executionInfo": {
     "elapsed": 11107,
     "status": "ok",
     "timestamp": 1744001460646,
     "user": {
      "displayName": "Nancy Dinh",
      "userId": "12870101503004733671"
     },
     "user_tz": 360
    },
    "id": "u4_9XRVPe1vX",
    "outputId": "3b073cd2-ef8f-438d-a63c-bcc6c6eca155"
   },
   "outputs": [
    {
     "name": "stderr",
     "output_type": "stream",
     "text": [
      "/usr/local/lib/python3.11/dist-packages/huggingface_hub/utils/_auth.py:94: UserWarning: \n",
      "The secret `HF_TOKEN` does not exist in your Colab secrets.\n",
      "To authenticate with the Hugging Face Hub, create a token in your settings tab (https://huggingface.co/settings/tokens), set it as secret in your Google Colab and restart your session.\n",
      "You will be able to reuse this secret in all of your notebooks.\n",
      "Please note that authentication is recommended but still optional to access public models or datasets.\n",
      "  warnings.warn(\n"
     ]
    },
    {
     "data": {
      "application/vnd.jupyter.widget-view+json": {
       "model_id": "90eddee1b0f9483480469d8085809c8f",
       "version_major": 2,
       "version_minor": 0
      },
      "text/plain": [
       "README.md:   0%|          | 0.00/7.81k [00:00<?, ?B/s]"
      ]
     },
     "metadata": {},
     "output_type": "display_data"
    },
    {
     "data": {
      "application/vnd.jupyter.widget-view+json": {
       "model_id": "96d5b21c0b4946ddbeb5864229c24d1c",
       "version_major": 2,
       "version_minor": 0
      },
      "text/plain": [
       "train-00000-of-00001.parquet:   0%|          | 0.00/21.0M [00:00<?, ?B/s]"
      ]
     },
     "metadata": {},
     "output_type": "display_data"
    },
    {
     "data": {
      "application/vnd.jupyter.widget-view+json": {
       "model_id": "a3393826f92d489ea406511da458c33f",
       "version_major": 2,
       "version_minor": 0
      },
      "text/plain": [
       "test-00000-of-00001.parquet:   0%|          | 0.00/20.5M [00:00<?, ?B/s]"
      ]
     },
     "metadata": {},
     "output_type": "display_data"
    },
    {
     "data": {
      "application/vnd.jupyter.widget-view+json": {
       "model_id": "53fa110401f44231937bcfe278fb1c75",
       "version_major": 2,
       "version_minor": 0
      },
      "text/plain": [
       "unsupervised-00000-of-00001.parquet:   0%|          | 0.00/42.0M [00:00<?, ?B/s]"
      ]
     },
     "metadata": {},
     "output_type": "display_data"
    },
    {
     "data": {
      "application/vnd.jupyter.widget-view+json": {
       "model_id": "6228658bed9e4af6be15bc26562c7c69",
       "version_major": 2,
       "version_minor": 0
      },
      "text/plain": [
       "Generating train split:   0%|          | 0/25000 [00:00<?, ? examples/s]"
      ]
     },
     "metadata": {},
     "output_type": "display_data"
    },
    {
     "data": {
      "application/vnd.jupyter.widget-view+json": {
       "model_id": "538e83c3b7ae40e3a4dcf5d721640cfb",
       "version_major": 2,
       "version_minor": 0
      },
      "text/plain": [
       "Generating test split:   0%|          | 0/25000 [00:00<?, ? examples/s]"
      ]
     },
     "metadata": {},
     "output_type": "display_data"
    },
    {
     "data": {
      "application/vnd.jupyter.widget-view+json": {
       "model_id": "31e3c5df03844309bc915f18b5c3bda7",
       "version_major": 2,
       "version_minor": 0
      },
      "text/plain": [
       "Generating unsupervised split:   0%|          | 0/50000 [00:00<?, ? examples/s]"
      ]
     },
     "metadata": {},
     "output_type": "display_data"
    },
    {
     "name": "stdout",
     "output_type": "stream",
     "text": [
      "DatasetDict({\n",
      "    train: Dataset({\n",
      "        features: ['text', 'label'],\n",
      "        num_rows: 25000\n",
      "    })\n",
      "    test: Dataset({\n",
      "        features: ['text', 'label'],\n",
      "        num_rows: 25000\n",
      "    })\n",
      "    unsupervised: Dataset({\n",
      "        features: ['text', 'label'],\n",
      "        num_rows: 50000\n",
      "    })\n",
      "})\n",
      "{'text': 'I rented I AM CURIOUS-YELLOW from my video store because of all the controversy that surrounded it when it was first released in 1967. I also heard that at first it was seized by U.S. customs if it ever tried to enter this country, therefore being a fan of films considered \"controversial\" I really had to see this for myself.<br /><br />The plot is centered around a young Swedish drama student named Lena who wants to learn everything she can about life. In particular she wants to focus her attentions to making some sort of documentary on what the average Swede thought about certain political issues such as the Vietnam War and race issues in the United States. In between asking politicians and ordinary denizens of Stockholm about their opinions on politics, she has sex with her drama teacher, classmates, and married men.<br /><br />What kills me about I AM CURIOUS-YELLOW is that 40 years ago, this was considered pornographic. Really, the sex and nudity scenes are few and far between, even then it\\'s not shot like some cheaply made porno. While my countrymen mind find it shocking, in reality sex and nudity are a major staple in Swedish cinema. Even Ingmar Bergman, arguably their answer to good old boy John Ford, had sex scenes in his films.<br /><br />I do commend the filmmakers for the fact that any sex shown in the film is shown for artistic purposes rather than just to shock people and make money to be shown in pornographic theaters in America. I AM CURIOUS-YELLOW is a good film for anyone wanting to study the meat and potatoes (no pun intended) of Swedish cinema. But really, this film doesn\\'t have much of a plot.', 'label': 0}\n"
     ]
    }
   ],
   "source": [
    "from datasets import load_dataset\n",
    "import pandas as pd\n",
    "import re\n",
    "\n",
    "# Load the dataset\n",
    "ds = load_dataset('imdb')\n",
    "\n",
    "# Explore the dataset\n",
    "print(ds)\n",
    "print(ds['train'][0])"
   ]
  },
  {
   "cell_type": "code",
   "execution_count": 8,
   "metadata": {
    "executionInfo": {
     "elapsed": 4,
     "status": "ok",
     "timestamp": 1744002036891,
     "user": {
      "displayName": "Nancy Dinh",
      "userId": "12870101503004733671"
     },
     "user_tz": 360
    },
    "id": "7FpBHEwHezyu"
   },
   "outputs": [],
   "source": [
    "def clean_text(text):\n",
    "    text = text.replace(\"<br />\", \" \").replace(\"br\", \" \")  # Remove HTML line breaks\n",
    "    text = re.sub(r'[^a-zA-Z\\s]', '', text)  # Keep only letters and spaces\n",
    "    return text.lower().strip()\n",
    "\n",
    "\n",
    "# Apply cleaning function to the 'text' field\n",
    "def preprocess_function(example):\n",
    "    example[\"text\"] = clean_text(example[\"text\"])\n",
    "    return example\n"
   ]
  },
  {
   "cell_type": "code",
   "execution_count": 9,
   "metadata": {
    "colab": {
     "base_uri": "https://localhost:8080/",
     "height": 113,
     "referenced_widgets": [
      "42585606ac89447bb48042f84ff39053",
      "10b60861c91c499f9b1d234a23ae7b57",
      "ed8c49119ee44097bb0deb0885e6cccc",
      "3aa0fe76e2ab4cdeae8acc704b0f22da",
      "3f5d73f04797436d9665a504aa64b70d",
      "e632c7e6f57e4136822dea8f7bce1018",
      "3bb1fd64e4dc4277a825ddd936582722",
      "9faa243f63394d979f7fb08533003e29",
      "4ded5cce674940a78da0b2bbe3b8bef6",
      "f6379f99db344453b6fb06330ae0e383",
      "fee8ffcb65314537bbaf45aab621b9e0",
      "25ee6f8ebf0947479f1a0b4b4fb9d311",
      "71c936fefc844ff2833ddcd5468638e1",
      "1e732bf3a57241aeb1321636615e6039",
      "27c67050a5b6429e8bd155a1ea48a889",
      "e36ba9a12b434622bc1aa5d235b83d24",
      "b36bea64895f4de6bdbf264e8abae39f",
      "c565dfd8d8924783bdf874b0ff02ba71",
      "eb45052499ae4986833963d4a86a23bc",
      "96b9c58a807140afac18f39d6a38f2da",
      "d5292fd2af4c4115a6c130c399031058",
      "7fd993ff36ef4b139a305d602db56541",
      "8b7193fa865c45449fcfa7a09e305658",
      "dfe704116793474e9e4d8378f0ac8a72",
      "ca378be2eb2d4e118380defbb2086873",
      "6688b8f68a7248c688a169a5a488d852",
      "7c516f65c2934447aeadf04bb4ae1cfa",
      "235ea95ae49640f2b336920b48790642",
      "680a2f0309644382a505ced324437ddb",
      "1518e2eaddb747a3942bb000363df6de",
      "7c8cc964c04b466aa259d9c8d845ee7d",
      "cf69c768d6a4422f9dfcf75013c8e880",
      "e3b1b5f14e8a421f958a4a6aa509c137"
     ]
    },
    "executionInfo": {
     "elapsed": 12698,
     "status": "ok",
     "timestamp": 1744002057181,
     "user": {
      "displayName": "Nancy Dinh",
      "userId": "12870101503004733671"
     },
     "user_tz": 360
    },
    "id": "HrSvut2_e9Jx",
    "outputId": "b6ec6b24-d52c-45f2-c94f-3c44e643f94f"
   },
   "outputs": [
    {
     "data": {
      "application/vnd.jupyter.widget-view+json": {
       "model_id": "42585606ac89447bb48042f84ff39053",
       "version_major": 2,
       "version_minor": 0
      },
      "text/plain": [
       "Map:   0%|          | 0/25000 [00:00<?, ? examples/s]"
      ]
     },
     "metadata": {},
     "output_type": "display_data"
    },
    {
     "data": {
      "application/vnd.jupyter.widget-view+json": {
       "model_id": "25ee6f8ebf0947479f1a0b4b4fb9d311",
       "version_major": 2,
       "version_minor": 0
      },
      "text/plain": [
       "Map:   0%|          | 0/25000 [00:00<?, ? examples/s]"
      ]
     },
     "metadata": {},
     "output_type": "display_data"
    },
    {
     "data": {
      "application/vnd.jupyter.widget-view+json": {
       "model_id": "8b7193fa865c45449fcfa7a09e305658",
       "version_major": 2,
       "version_minor": 0
      },
      "text/plain": [
       "Map:   0%|          | 0/50000 [00:00<?, ? examples/s]"
      ]
     },
     "metadata": {},
     "output_type": "display_data"
    }
   ],
   "source": [
    "# Apply preprocessing to dataset\n",
    "new_ds = ds.map(preprocess_function)"
   ]
  },
  {
   "cell_type": "code",
   "execution_count": 10,
   "metadata": {
    "colab": {
     "base_uri": "https://localhost:8080/"
    },
    "executionInfo": {
     "elapsed": 5,
     "status": "ok",
     "timestamp": 1744002059902,
     "user": {
      "displayName": "Nancy Dinh",
      "userId": "12870101503004733671"
     },
     "user_tz": 360
    },
    "id": "XIK2HPtSe-2W",
    "outputId": "29aa7e80-3b6e-4135-e3d3-8149775b5aec"
   },
   "outputs": [
    {
     "name": "stdout",
     "output_type": "stream",
     "text": [
      "{'text': 'i rented i am curiousyellow from my video store because of all the controversy that surrounded it when it was first released in  i also heard that at first it was seized by us customs if it ever tried to enter this country therefore being a fan of films considered controversial i really had to see this for myself  the plot is centered around a young swedish drama student named lena who wants to learn everything she can about life in particular she wants to focus her attentions to making some sort of documentary on what the average swede thought about certain political issues such as the vietnam war and race issues in the united states in between asking politicians and ordinary denizens of stockholm about their opinions on politics she has sex with her drama teacher classmates and married men  what kills me about i am curiousyellow is that  years ago this was considered pornographic really the sex and nudity scenes are few and far between even then its not shot like some cheaply made porno while my countrymen mind find it shocking in reality sex and nudity are a major staple in swedish cinema even ingmar bergman arguably their answer to good old boy john ford had sex scenes in his films  i do commend the filmmakers for the fact that any sex shown in the film is shown for artistic purposes rather than just to shock people and make money to be shown in pornographic theaters in america i am curiousyellow is a good film for anyone wanting to study the meat and potatoes no pun intended of swedish cinema but really this film doesnt have much of a plot', 'label': 0}\n"
     ]
    }
   ],
   "source": [
    "# Verifying the preprocessed data\n",
    "print(new_ds['train'][0])"
   ]
  },
  {
   "cell_type": "code",
   "execution_count": 11,
   "metadata": {
    "colab": {
     "base_uri": "https://localhost:8080/",
     "height": 113,
     "referenced_widgets": [
      "6760020cea3b4253b2d11cd09e9a3b3a",
      "b4e9a9b126d648b9a93448e27bf73a47",
      "052c772f66f04dff9163a48870d954bd",
      "7053a21e940e4428ada095422b7de9e6",
      "9be5c936ef6247a7826d5a66fc2161ab",
      "4419bd885f9c4a99aa5232a8a714cacf",
      "1a97263ed4524d93a89a68fa33c36200",
      "db49d9edfe854af287e5cfe956026e9b",
      "84584be92a9a4472bfe9d361a953f201",
      "f5e59b5f681947e2a8950040390bc06e",
      "685befe6e3b349cab9bf7dcb46db36c3",
      "0febfe4d3cbf4c10aa6619a9f6853b31",
      "10440bfdce4b42d18b36cbf2ce729fa5",
      "05d7451fdabe4a35944e2ecd63cc7982",
      "44ca70e663894dbfb91c01451ee8748d",
      "c914bb547eca4bbc99fd771a659ed5cc",
      "76ae3d7eb72744a79120206b460d3ae4",
      "ef2caf1a8dd648a7906151ab1d54400c",
      "4a9bdc92d6324f36b54dc22930a9802a",
      "13f4e8e380bc417aaf9f039e6e0f0d80",
      "b63b3f2452c04fceaefd5464170952e7",
      "7ddcb5b3402e42eaa523bcc034c9688c",
      "c042e34bc7fb4c0fa062182d2a098c04",
      "8e13f8d219ad45c78794a030cb72c169",
      "d739a35cf85e4d9ba8d42b37c6bde067",
      "6242650dcce4427da2196a92b77debdb",
      "e20bd336e29549bfb6fe6b73bc4b9219",
      "05c468ad09f144538de2e5b1cc76de6a",
      "b1112db0cad64f3ca2e3b430c2cd26ca",
      "e05e469db3be4e9294fc4b5fa3ce440c",
      "d0c5cae0525f40acbf2409dc40ff3cb6",
      "24993bb5ebda4889b41b3e45a5b8f705",
      "1bf4bc3995db45ffa8d5d6aae18b6d4c"
     ]
    },
    "executionInfo": {
     "elapsed": 872,
     "status": "ok",
     "timestamp": 1744002067035,
     "user": {
      "displayName": "Nancy Dinh",
      "userId": "12870101503004733671"
     },
     "user_tz": 360
    },
    "id": "P4JpMMWKgOMl",
    "outputId": "bd5d297b-1876-47e5-8253-294495b8b06c"
   },
   "outputs": [
    {
     "data": {
      "application/vnd.jupyter.widget-view+json": {
       "model_id": "6760020cea3b4253b2d11cd09e9a3b3a",
       "version_major": 2,
       "version_minor": 0
      },
      "text/plain": [
       "Saving the dataset (0/1 shards):   0%|          | 0/25000 [00:00<?, ? examples/s]"
      ]
     },
     "metadata": {},
     "output_type": "display_data"
    },
    {
     "data": {
      "application/vnd.jupyter.widget-view+json": {
       "model_id": "0febfe4d3cbf4c10aa6619a9f6853b31",
       "version_major": 2,
       "version_minor": 0
      },
      "text/plain": [
       "Saving the dataset (0/1 shards):   0%|          | 0/25000 [00:00<?, ? examples/s]"
      ]
     },
     "metadata": {},
     "output_type": "display_data"
    },
    {
     "data": {
      "application/vnd.jupyter.widget-view+json": {
       "model_id": "c042e34bc7fb4c0fa062182d2a098c04",
       "version_major": 2,
       "version_minor": 0
      },
      "text/plain": [
       "Saving the dataset (0/1 shards):   0%|          | 0/50000 [00:00<?, ? examples/s]"
      ]
     },
     "metadata": {},
     "output_type": "display_data"
    }
   ],
   "source": [
    "# save data to use in the future\n",
    "# Save the dataset to a JSON file\n",
    "new_ds.save_to_disk(\"/content/drive/MyDrive/Lighthouse Labs/LLM-Project/notebooks\")\n"
   ]
  }
 ],
 "metadata": {
  "colab": {
   "provenance": []
  },
  "kernelspec": {
   "display_name": "Python 3 (ipykernel)",
   "language": "python",
   "name": "python3"
  },
  "language_info": {
   "codemirror_mode": {
    "name": "ipython",
    "version": 3
   },
   "file_extension": ".py",
   "mimetype": "text/x-python",
   "name": "python",
   "nbconvert_exporter": "python",
   "pygments_lexer": "ipython3",
   "version": "3.12.9"
  }
  
    
 
  
 },
 "nbformat": 4,
 "nbformat_minor": 4
}
