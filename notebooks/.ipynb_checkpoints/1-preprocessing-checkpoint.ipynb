{
 "cells": [
  {
   "cell_type": "code",
   "execution_count": null,
   "metadata": {
    "colab": {
     "base_uri": "https://localhost:8080/"
    },
    "executionInfo": {
     "elapsed": 9286,
     "status": "ok",
     "timestamp": 1744001352476,
     "user": {
      "displayName": "Nancy Dinh",
      "userId": "12870101503004733671"
     },
     "user_tz": 360
    },
    "id": "7NWsg4z-d4gG",
    "outputId": "d3c8f31e-99ae-43e5-bc45-3e7495fa3993"
   },
   "outputs": [],
   "source": [
    "from google.colab import drive\n",
    "drive.mount('/content/drive')\n",
    "\n",
    "%cd /content/drive/MyDrive/Lighthouse Labs/LLM-Project/notebooks\n"
   ]
  },
  {
   "cell_type": "code",
   "execution_count": null,
   "metadata": {
    "colab": {
     "base_uri": "https://localhost:8080/"
    },
    "executionInfo": {
     "elapsed": 5980,
     "status": "ok",
     "timestamp": 1744001365490,
     "user": {
      "displayName": "Nancy Dinh",
      "userId": "12870101503004733671"
     },
     "user_tz": 360
    },
    "id": "xykxGDqNemae",
    "outputId": "871c4465-d43e-45de-c60c-541bd83c60b5"
   },
   "outputs": [],
   "source": [
    "!pip install datasets"
   ]
  },
  {
   "cell_type": "code",
   "execution_count": null,
   "metadata": {
    "colab": {
     "base_uri": "https://localhost:8080/",
     "height": 636,
     "referenced_widgets": [
      "90eddee1b0f9483480469d8085809c8f",
      "edef211380be46c2be44c8aa3d47fcb3",
      "5044d85418334f7284a97e06a0551bba",
      "8a7cfd4695ac48279a9b5ccb758bf4d0",
      "6b3689873bac40db8867ac631486fd56",
      "301a77f4422443058aa4f498d732e97e",
      "5ffc06d447e0439b8b3ffd5a8d6f6e8b",
      "a6a55e37fd88472787a86ed1d3998ede",
      "36f8f5f649ae43999254faf1807e1b50",
      "69cbb97d45bc48779c7f597be35a43f0",
      "37fc3a0d011041fcb9c927d8e556fa8e",
      "96d5b21c0b4946ddbeb5864229c24d1c",
      "8cf2e3a3a47b40808b4e26fb1e1a6b52",
      "0af513be7c564b6ca6ea93f5202d2da9",
      "692965e2b18d4f2581499ba902ee6f17",
      "69e790f1a8f94b87bdd6206b1ef31c9b",
      "bcfc4bb094934f3dbe7e92ab1056ae6a",
      "11f7936041814314ad34adcaa9c0d857",
      "9ebc18ffb5b8499cb53743cdc72b27c9",
      "451e47a581354056bf0eea062b339311",
      "5c96b862d9214dac87138594dfd58062",
      "3d8a981f27df4d7587d1825cb2799d25",
      "a3393826f92d489ea406511da458c33f",
      "61840dc6d17949689f958641dacd0433",
      "cd2e3eba7d6f474d983c95b13646a48c",
      "537f7ee0c6204c2eb25a62bd5675fd19",
      "21ddedcbec5544609e1c802def1b83a8",
      "d0ef1d0cf0fc496494e902d992b0a6ca",
      "ca4e73aa948944a982b61f8136c90459",
      "469ccf460dd8454b8ee47dc7515fca31",
      "ccc63b7fa249490bb0d39c12b95db1f1",
      "cd38a3022c65465f8af3a85e63f6ec13",
      "94a19c4cd8364ae6963000e8a7f01775",
      "53fa110401f44231937bcfe278fb1c75",
      "48e04b192a5f4c4db53ccb226b655fb2",
      "07d786a4d3404c1eaa4846f6f6a0c0f7",
      "66d352ad4e004bb5add2d6cef431be05",
      "90dd9da0f5054ba481150fa51df84a60",
      "8f84b270d5fc4be19fa8b103e88eb0b1",
      "47dc9aa2ad1d41e3b2370d4525fa6a11",
      "1277b58972024c40ba3226fb22c71f9b",
      "f5d7178df2504bda8f2e5e51c66eaccb",
      "74b551cb13624305b6898b0c85463e1f",
      "3d934a25f7e547f58e470f41e767f1d2",
      "6228658bed9e4af6be15bc26562c7c69",
      "a765d8897f3e468e8fca84f2bb21c0e8",
      "8f31e888a0964cb4a7449748074b1046",
      "0fd865e9f2724e48b7625686174d77a1",
      "073acb07531b484d96ffe329d9a8262a",
      "f9046a3ce848495ab5c8c22bd387c600",
      "da980b021ed34a26be9ce1c3f31a3bd1",
      "780927930a124526a678d8ff98a3c144",
      "e5faf6a68e5d48e588647b691ae11a17",
      "069c0c700f744c24857a810f6198024a",
      "a6e616efee04497383004546f9196551",
      "538e83c3b7ae40e3a4dcf5d721640cfb",
      "48ad41e02c57478a8f655dcf4e5fd2ab",
      "19fe7a220b6d4419b70d51e39efd41bc",
      "1a87a722a16d4d86a7c7dc1f7ac608b6",
      "781dcaf5c7404f11bd354b7d2e69990a",
      "485a41cd9a0f4c9dabe3406e82bcfea7",
      "401f2bd45fee430f92b965c32f39ea01",
      "73a209370fb145cb8cd21c805fc3d04f",
      "60374d65970e4aa3be8e0b17fddd2dfc",
      "b510c61b4b074833917ebeb1116f8cdd",
      "f7399232e45d43949bad2499ef45bb1b",
      "31e3c5df03844309bc915f18b5c3bda7",
      "e3c9e27f7cbe4035a7402ef684c9c684",
      "d8517efc34a448d3954aa81efe2cb683",
      "818b3e3bb17a4ccfbe7bc0379e0386e4",
      "06539683589d4c7a8c0241114ce3ec30",
      "48eb0bff6a85433bbd31f27068af4bed",
      "e77aa4e758974666bf91f1bfc685cce9",
      "aed285c11a914ef181431d988292983c",
      "0bc27ff795ba4b03b5afa1aff166db49",
      "c4d46e18c47a4da18ce6719ea1ac155a",
      "98595950a6dc40ac9cc80a49456a633f"
     ]
    },
    "executionInfo": {
     "elapsed": 11107,
     "status": "ok",
     "timestamp": 1744001460646,
     "user": {
      "displayName": "Nancy Dinh",
      "userId": "12870101503004733671"
     },
     "user_tz": 360
    },
    "id": "u4_9XRVPe1vX",
    "outputId": "3b073cd2-ef8f-438d-a63c-bcc6c6eca155"
   },
   "outputs": [],
   "source": [
    "from datasets import load_dataset\n",
    "import pandas as pd\n",
    "import re\n",
    "\n",
    "# Load the dataset\n",
    "ds = load_dataset('imdb')\n",
    "\n",
    "# Explore the dataset\n",
    "print(ds)\n",
    "print(ds['train'][0])"
   ]
  },
  {
   "cell_type": "code",
   "execution_count": null,
   "metadata": {
    "executionInfo": {
     "elapsed": 4,
     "status": "ok",
     "timestamp": 1744002036891,
     "user": {
      "displayName": "Nancy Dinh",
      "userId": "12870101503004733671"
     },
     "user_tz": 360
    },
    "id": "7FpBHEwHezyu"
   },
   "outputs": [],
   "source": [
    "def clean_text(text):\n",
    "    text = text.replace(\"<br />\", \" \").replace(\"br\", \" \")  # Remove HTML line breaks\n",
    "    text = re.sub(r'[^a-zA-Z\\s]', '', text)  # Keep only letters and spaces\n",
    "    return text.lower().strip()\n",
    "\n",
    "\n",
    "# Apply cleaning function to the 'text' field\n",
    "def preprocess_function(example):\n",
    "    example[\"text\"] = clean_text(example[\"text\"])\n",
    "    return example\n"
   ]
  },
  {
   "cell_type": "code",
   "execution_count": null,
   "metadata": {
    "colab": {
     "base_uri": "https://localhost:8080/",
     "height": 113,
     "referenced_widgets": [
      "42585606ac89447bb48042f84ff39053",
      "10b60861c91c499f9b1d234a23ae7b57",
      "ed8c49119ee44097bb0deb0885e6cccc",
      "3aa0fe76e2ab4cdeae8acc704b0f22da",
      "3f5d73f04797436d9665a504aa64b70d",
      "e632c7e6f57e4136822dea8f7bce1018",
      "3bb1fd64e4dc4277a825ddd936582722",
      "9faa243f63394d979f7fb08533003e29",
      "4ded5cce674940a78da0b2bbe3b8bef6",
      "f6379f99db344453b6fb06330ae0e383",
      "fee8ffcb65314537bbaf45aab621b9e0",
      "25ee6f8ebf0947479f1a0b4b4fb9d311",
      "71c936fefc844ff2833ddcd5468638e1",
      "1e732bf3a57241aeb1321636615e6039",
      "27c67050a5b6429e8bd155a1ea48a889",
      "e36ba9a12b434622bc1aa5d235b83d24",
      "b36bea64895f4de6bdbf264e8abae39f",
      "c565dfd8d8924783bdf874b0ff02ba71",
      "eb45052499ae4986833963d4a86a23bc",
      "96b9c58a807140afac18f39d6a38f2da",
      "d5292fd2af4c4115a6c130c399031058",
      "7fd993ff36ef4b139a305d602db56541",
      "8b7193fa865c45449fcfa7a09e305658",
      "dfe704116793474e9e4d8378f0ac8a72",
      "ca378be2eb2d4e118380defbb2086873",
      "6688b8f68a7248c688a169a5a488d852",
      "7c516f65c2934447aeadf04bb4ae1cfa",
      "235ea95ae49640f2b336920b48790642",
      "680a2f0309644382a505ced324437ddb",
      "1518e2eaddb747a3942bb000363df6de",
      "7c8cc964c04b466aa259d9c8d845ee7d",
      "cf69c768d6a4422f9dfcf75013c8e880",
      "e3b1b5f14e8a421f958a4a6aa509c137"
     ]
    },
    "executionInfo": {
     "elapsed": 12698,
     "status": "ok",
     "timestamp": 1744002057181,
     "user": {
      "displayName": "Nancy Dinh",
      "userId": "12870101503004733671"
     },
     "user_tz": 360
    },
    "id": "HrSvut2_e9Jx",
    "outputId": "b6ec6b24-d52c-45f2-c94f-3c44e643f94f"
   },
   "outputs": [],
   "source": [
    "# Apply preprocessing to dataset\n",
    "new_ds = ds.map(preprocess_function)"
   ]
  },
  {
   "cell_type": "code",
   "execution_count": null,
   "metadata": {
    "colab": {
     "base_uri": "https://localhost:8080/"
    },
    "executionInfo": {
     "elapsed": 5,
     "status": "ok",
     "timestamp": 1744002059902,
     "user": {
      "displayName": "Nancy Dinh",
      "userId": "12870101503004733671"
     },
     "user_tz": 360
    },
    "id": "XIK2HPtSe-2W",
    "outputId": "29aa7e80-3b6e-4135-e3d3-8149775b5aec"
   },
   "outputs": [],
   "source": [
    "# Verifying the preprocessed data\n",
    "print(new_ds['train'][0])"
   ]
  },
  {
   "cell_type": "code",
   "execution_count": null,
   "metadata": {
    "colab": {
     "base_uri": "https://localhost:8080/",
     "height": 113,
     "referenced_widgets": [
      "6760020cea3b4253b2d11cd09e9a3b3a",
      "b4e9a9b126d648b9a93448e27bf73a47",
      "052c772f66f04dff9163a48870d954bd",
      "7053a21e940e4428ada095422b7de9e6",
      "9be5c936ef6247a7826d5a66fc2161ab",
      "4419bd885f9c4a99aa5232a8a714cacf",
      "1a97263ed4524d93a89a68fa33c36200",
      "db49d9edfe854af287e5cfe956026e9b",
      "84584be92a9a4472bfe9d361a953f201",
      "f5e59b5f681947e2a8950040390bc06e",
      "685befe6e3b349cab9bf7dcb46db36c3",
      "0febfe4d3cbf4c10aa6619a9f6853b31",
      "10440bfdce4b42d18b36cbf2ce729fa5",
      "05d7451fdabe4a35944e2ecd63cc7982",
      "44ca70e663894dbfb91c01451ee8748d",
      "c914bb547eca4bbc99fd771a659ed5cc",
      "76ae3d7eb72744a79120206b460d3ae4",
      "ef2caf1a8dd648a7906151ab1d54400c",
      "4a9bdc92d6324f36b54dc22930a9802a",
      "13f4e8e380bc417aaf9f039e6e0f0d80",
      "b63b3f2452c04fceaefd5464170952e7",
      "7ddcb5b3402e42eaa523bcc034c9688c",
      "c042e34bc7fb4c0fa062182d2a098c04",
      "8e13f8d219ad45c78794a030cb72c169",
      "d739a35cf85e4d9ba8d42b37c6bde067",
      "6242650dcce4427da2196a92b77debdb",
      "e20bd336e29549bfb6fe6b73bc4b9219",
      "05c468ad09f144538de2e5b1cc76de6a",
      "b1112db0cad64f3ca2e3b430c2cd26ca",
      "e05e469db3be4e9294fc4b5fa3ce440c",
      "d0c5cae0525f40acbf2409dc40ff3cb6",
      "24993bb5ebda4889b41b3e45a5b8f705",
      "1bf4bc3995db45ffa8d5d6aae18b6d4c"
     ]
    },
    "executionInfo": {
     "elapsed": 872,
     "status": "ok",
     "timestamp": 1744002067035,
     "user": {
      "displayName": "Nancy Dinh",
      "userId": "12870101503004733671"
     },
     "user_tz": 360
    },
    "id": "P4JpMMWKgOMl",
    "outputId": "bd5d297b-1876-47e5-8253-294495b8b06c"
   },
   "outputs": [],
   "source": [
    "# save data to use in the future\n",
    "# Save the dataset to a JSON file\n",
    "new_ds.save_to_disk(\"/content/drive/MyDrive/Lighthouse Labs/LLM-Project/notebooks\")\n"
   ]
  }
 ],
 "metadata": {
  "colab": {
   "provenance": []
  },
  "kernelspec": {
   "display_name": "Python 3",
   "name": "python3"
  },
  "language_info": {
   "name": "python"
  }
 },
 "nbformat": 4,
 "nbformat_minor": 0
}
